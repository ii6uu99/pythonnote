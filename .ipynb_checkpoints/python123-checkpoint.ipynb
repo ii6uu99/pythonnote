{
 "cells": [
  {
   "cell_type": "code",
   "execution_count": 1,
   "metadata": {},
   "outputs": [
    {
     "name": "stdout",
     "output_type": "stream",
     "text": [
      "hello\n"
     ]
    }
   ],
   "source": [
    "print('hello')"
   ]
  },
  {
   "cell_type": "markdown",
   "metadata": {},
   "source": [
    "上传到github的一串命令"
   ]
  },
  {
   "cell_type": "code",
   "execution_count": 2,
   "metadata": {},
   "outputs": [
    {
     "name": "stdout",
     "output_type": "stream",
     "text": [
      "[master ef96933] 备注\n",
      " 1 file changed, 49 insertions(+)\n",
      " create mode 100644 .ipynb_checkpoints/python123-checkpoint.ipynb\n",
      "# 位于分支 master\n",
      "# 您的分支领先 'origin/master' 共 1 个提交。\n",
      "#   （使用 \"git push\" 来发布您的本地提交）\n",
      "#\n",
      "无文件要提交，干净的工作区\n"
     ]
    }
   ],
   "source": [
    "!git add -A && git commit -m \"备注\" && git status"
   ]
  },
  {
   "cell_type": "code",
   "execution_count": null,
   "metadata": {},
   "outputs": [],
   "source": []
  }
 ],
 "metadata": {
  "kernelspec": {
   "display_name": "Python 3",
   "language": "python",
   "name": "python3"
  },
  "language_info": {
   "codemirror_mode": {
    "name": "ipython",
    "version": 3
   },
   "file_extension": ".py",
   "mimetype": "text/x-python",
   "name": "python",
   "nbconvert_exporter": "python",
   "pygments_lexer": "ipython3",
   "version": "3.4.5"
  }
 },
 "nbformat": 4,
 "nbformat_minor": 2
}
