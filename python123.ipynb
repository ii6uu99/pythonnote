{
 "cells": [
  {
   "cell_type": "code",
   "execution_count": 1,
   "metadata": {},
   "outputs": [
    {
     "name": "stdout",
     "output_type": "stream",
     "text": [
      "hello\n"
     ]
    }
   ],
   "source": [
    "print('hello')"
   ]
  },
  {
   "cell_type": "markdown",
   "metadata": {},
   "source": [
    "上传到github的一串命令"
   ]
  },
  {
   "cell_type": "code",
   "execution_count": 7,
   "metadata": {},
   "outputs": [
    {
     "name": "stdout",
     "output_type": "stream",
     "text": [
      "[master a81863e] 备注\n",
      " 2 files changed, 24 insertions(+), 34 deletions(-)\n",
      "warning: push.default 未设置，它的默认值将会在 Git 2.0 由 'matching'\n",
      "修改为 'simple'。若要不再显示本信息并在其默认值改变后维持当前使用习惯，\n",
      "进行如下设置：\n",
      "\n",
      "  git config --global push.default matching\n",
      "\n",
      "若要不再显示本信息并从现在开始采用新的使用习惯，设置：\n",
      "\n",
      "  git config --global push.default simple\n",
      "\n",
      "参见 'git help config' 并查找 'push.default' 以获取更多信息。\n",
      "（'simple' 模式由 Git 1.7.11 版本引入。如果您有时要使用老版本的 Git，\n",
      "为保持兼容，请用 'current' 代替 'simple' 模式）\n",
      "\n",
      "Counting objects: 7, done.\n",
      "Delta compression using up to 2 threads.\n",
      "Compressing objects: 100% (4/4), done.\n",
      "Writing objects: 100% (4/4), 626 bytes | 0 bytes/s, done.\n",
      "Total 4 (delta 1), reused 0 (delta 0)\n",
      "remote: Resolving deltas: 100% (1/1), completed with 1 local object.\u001b[K\n",
      "To git@github.com:ii6uu99/pythonnote.git\n",
      "   862bf8a..a81863e  master -> master\n",
      "# 位于分支 master\n",
      "无文件要提交，干净的工作区\n"
     ]
    }
   ],
   "source": [
    "!git add -A && git commit -m \"备注\" &&  git push && git status"
   ]
  },
  {
   "cell_type": "code",
   "execution_count": null,
   "metadata": {},
   "outputs": [],
   "source": [
    "#####python text"
   ]
  }
 ],
 "metadata": {
  "kernelspec": {
   "display_name": "Python 3",
   "language": "python",
   "name": "python3"
  },
  "language_info": {
   "codemirror_mode": {
    "name": "ipython",
    "version": 3
   },
   "file_extension": ".py",
   "mimetype": "text/x-python",
   "name": "python",
   "nbconvert_exporter": "python",
   "pygments_lexer": "ipython3",
   "version": "3.4.5"
  }
 },
 "nbformat": 4,
 "nbformat_minor": 2
}
