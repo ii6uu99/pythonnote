{
 "cells": [
  {
   "cell_type": "code",
   "execution_count": 1,
   "metadata": {},
   "outputs": [
    {
     "name": "stdout",
     "output_type": "stream",
     "text": [
      "hello\n"
     ]
    }
   ],
   "source": [
    "print('hello')"
   ]
  },
  {
   "cell_type": "markdown",
   "metadata": {},
   "source": [
    "上传到github的一串命令"
   ]
  },
  {
   "cell_type": "code",
   "execution_count": 5,
   "metadata": {},
   "outputs": [
    {
     "name": "stdout",
     "output_type": "stream",
     "text": [
      "[master fb72ed4] 备注\n",
      " 1 file changed, 8 insertions(+), 9 deletions(-)\n",
      "warning: push.default 未设置，它的默认值将会在 Git 2.0 由 'matching'\n",
      "修改为 'simple'。若要不再显示本信息并在其默认值改变后维持当前使用习惯，\n",
      "进行如下设置：\n",
      "\n",
      "  git config --global push.default matching\n",
      "\n",
      "若要不再显示本信息并从现在开始采用新的使用习惯，设置：\n",
      "\n",
      "  git config --global push.default simple\n",
      "\n",
      "参见 'git help config' 并查找 'push.default' 以获取更多信息。\n",
      "（'simple' 模式由 Git 1.7.11 版本引入。如果您有时要使用老版本的 Git，\n",
      "为保持兼容，请用 'current' 代替 'simple' 模式）\n",
      "\n",
      "Counting objects: 16, done.\n",
      "Delta compression using up to 2 threads.\n",
      "Compressing objects: 100% (12/12), done.\n",
      "Writing objects: 100% (13/13), 2.01 KiB | 0 bytes/s, done.\n",
      "Total 13 (delta 2), reused 0 (delta 0)\n",
      "remote: Resolving deltas: 100% (2/2), done.\u001b[K\n",
      "To git@github.com:ii6uu99/pythonnote.git\n",
      "   fce2b8c..fb72ed4  master -> master\n",
      "# 位于分支 master\n",
      "# 尚未暂存以备提交的变更：\n",
      "#   （使用 \"git add <file>...\" 更新要提交的内容）\n",
      "#   （使用 \"git checkout -- <file>...\" 丢弃工作区的改动）\n",
      "#\n",
      "#\t修改：      python123.ipynb\n",
      "#\n",
      "修改尚未加入提交（使用 \"git add\" 和/或 \"git commit -a\"）\n"
     ]
    }
   ],
   "source": [
    "!git add -A && git commit -m \"备注\" &&  git push && git status"
   ]
  },
  {
   "cell_type": "code",
   "execution_count": null,
   "metadata": {},
   "outputs": [],
   "source": []
  }
 ],
 "metadata": {
  "kernelspec": {
   "display_name": "Python 3",
   "language": "python",
   "name": "python3"
  },
  "language_info": {
   "codemirror_mode": {
    "name": "ipython",
    "version": 3
   },
   "file_extension": ".py",
   "mimetype": "text/x-python",
   "name": "python",
   "nbconvert_exporter": "python",
   "pygments_lexer": "ipython3",
   "version": "3.4.5"
  }
 },
 "nbformat": 4,
 "nbformat_minor": 2
}
